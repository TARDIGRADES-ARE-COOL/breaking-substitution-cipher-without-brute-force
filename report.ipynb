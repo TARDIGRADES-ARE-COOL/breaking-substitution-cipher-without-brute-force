{
 "cells": [
  {
   "cell_type": "markdown",
   "metadata": {},
   "source": [
    "TASK 1:\n",
    "\n",
    "I found the most commonly used words and mapped them through trial and error but after figuring out that U was mapped to E i assumed that the rest followed a similar patter so  i mapped them accordingly:\n",
    "\n",
    "my_mapping = {\n",
    "    'A': 'K',\n",
    "    'B': 'L',\n",
    "    'C': 'M',\n",
    "    'D': 'N',\n",
    "    'E': 'O',\n",
    "    'F': 'P',\n",
    "    'G': 'Q',\n",
    "    'H': 'R',\n",
    "    'I': 'S',\n",
    "    'J': 'T',\n",
    "    'K': 'U',\n",
    "    'L': 'V',\n",
    "    'M': 'W',\n",
    "    'N': 'X',\n",
    "    'O': 'Y',\n",
    "    'P': 'Z',\n",
    "    'Q': 'A',\n",
    "    'R': 'B',\n",
    "    'S': 'C',\n",
    "    'T': 'D',\n",
    "    'U': 'E',\n",
    "    'V': 'F',\n",
    "    'W': 'G',\n",
    "    'X': 'H',\n",
    "    'Y': 'I',\n",
    "    'Z': 'J',\n",
    "}\n",
    "\n"
   ]
  },
  {
   "cell_type": "code",
   "execution_count": 6,
   "metadata": {},
   "outputs": [
    {
     "name": "stdout",
     "output_type": "stream",
     "text": [
      "\n",
      "=== Letter Frequency Analysis ===\n",
      "Letter: Count (Percentage)\n",
      "---------------------------\n",
      "U: 305 (11.49%)\n",
      "J: 263 (9.91%)\n",
      "Y: 229 (8.63%)\n",
      "Q: 213 (8.02%)\n",
      "E: 206 (7.76%)\n",
      "D: 205 (7.72%)\n",
      "I: 198 (7.46%)\n",
      "X: 160 (6.03%)\n",
      "H: 131 (4.93%)\n",
      "B: 102 (3.84%)\n",
      "T: 98 (3.69%)\n",
      "W: 71 (2.67%)\n",
      "C: 70 (2.64%)\n",
      "S: 61 (2.30%)\n",
      "O: 58 (2.18%)\n",
      "K: 51 (1.92%)\n",
      "M: 50 (1.88%)\n",
      "V: 50 (1.88%)\n",
      "F: 43 (1.62%)\n",
      "R: 35 (1.32%)\n",
      "L: 29 (1.09%)\n",
      "A: 20 (0.75%)\n",
      "N: 3 (0.11%)\n",
      "Z: 3 (0.11%)\n",
      "P: 1 (0.04%)\n",
      "Decrypted text has been saved to 'solution.txt'.\n"
     ]
    }
   ],
   "source": [
    "!python3 ex1.py"
   ]
  },
  {
   "cell_type": "markdown",
   "metadata": {},
   "source": [
    "The script i hope is correct, makes sense to me and i will output it below here"
   ]
  },
  {
   "cell_type": "code",
   "execution_count": 7,
   "metadata": {},
   "outputs": [
    {
     "name": "stdout",
     "output_type": "stream",
     "text": [
      "WHAT IS SYMPHOGEAR. FOR A LOOOOONG, LOOONG TIME I HAVE NEVER BOTHERED ENGAGING MYSELF IN THIS FRANCHISE. I DID NOT UNDERSTAND WHAT IT IS. NOW THAT THE SHOW IS HAVING ITS LAST SEASON, I DECIDED TO FINALLY GIVE IN, GIVE SYMPHOGEAR A TRY FROM THE VERY START. I WONDERED HOW HAVE I MISSED OUT ON THE ANIME OF THE DECADE ALL THESE YEARS. I HONESTLY DID NOT KNOW WHAT TO EXPECT WATCHING THE VERY FIRST EPISODE KNOWING ABSOLUTELY NOTHING ABOUT THE FRANCHISE. THE SHOW TOYED WITH MY EMOTIONS SO MUCH IN THAT OPENING SETPIECE. IT ENDED UP BEING ONE OF THE MOST LIFE AFFIRMING SHOWS OUT THERE. A STUNNING DISPLAY OF IDIOCY AND ACTION THAT IS BOTH CHARMING AND CAPTIVATING. IT IS CONFIDENT IN ITS STRENGTHS AND PARADES ITS WEAKNESSES PROUDLY, A SHOW THAT IS BOTH ALL STYLE AND ALL SUBSTANCE. OH BUT MOST OF ALL, IT IS A TRUE ROLLER COASTER OF EMOTIONS, AND I DO NOT USE THAT TERM LIGHTLY. I LAUGHED, I CRIED, I GOT FRUSTRATED AT THE INEPTITUDE AND STUPIDITY OF BOTH THE CHARACTERS AND THE CREATORS, BUT MOST OF ALL, I LOVED. WHEN THE CURSE OF BALAL FELL IN PLACE, SONGS STILL MANAGED TO BRIDGE THAT GAP AND CONNECT US ALL TOGETHER. THE ONE EMOTION THE SHOW NEVER FAILS TO DELIVER IS HYPE. THE SURGE OF ADRENALINE AND ENDORPHINS AND ALL THE CHEMICALS IN YOUR BRAIN WHENEVER SOMETHING AWESOME IS HAPPENING ONSCREEN IS A RARE TREAT IN MOST OTHER ANIME, BUT A CONSTANT OCCURRENCE IN THIS SHOW. THE HYPE DOES OCCASIONALLY FAIL TO DELIVER, THE HIGHER EXPECTATIONS CAN SOMETIMES BE OH TOO MUCH, BUT STILL, WHEN YOU HEAR HIBIKI SCREAM, YOU KNOW SHE MEANS BUSINESS AND JOIN HER IN SONG. AND THOSE SONGS ARE PRECISELY WHAT KEEPS SYMPHOGEAR IN THE MINDS OF MANY ALL THIS WHILE. I AM NOT AN IDOL ANIME PERSON, I DESPISE MOST IDOL ANIME AND YET. AND YET. THE MOMENT I HEARD THE SONGS FOR THE FIRST TIME RIGHT THERE ON THE IDOL CONCERT, I WAS ENTHRALLED. I KNEW THAT REGARDLESS OF HOW THE SHOW TURNED OUT, IT WOULD HAVE GREAT MUSIC. COVERING MANY GENRES, THE SHOW HAS A DIVERSE PALETTE OF SONGS RANGING FROM CELTIC ROCK TO ENKA INSPIRED TRACKS, THERE IS NO SHORTAGE OF VARIETY. YES THERE ARE SONGS THAT DO NOT WORK WELL, BUT THE ONES THAT RESONATE FAR OUTWEIGH THE OCCASIONAL BAD ONES.  SYMPHOGEAR HAS TO BE TAKEN IN AS A COMPLETE PACKAGE. IT TRULY IS MORE THAN THE SUM OF ITS PARTS. LOOKING BACK, YES I CAN AGREE ON ALL THE FLAWS, SOME MAJOR, THE SHOW HAS HAD. YET IN SPITE OF IT ALL, ACROSS SEVEN YEARS AND FIVE SEASONS. IT IS WHY I ULTIMATELY DECIDED IN AWARDING IT WITH ONE OF MY RARE NINES. SOMETHING THIS SPECIAL, THIS INSPIRATIONAL, THIS LONG LASTING IS TRULY AN EXPERIENCE TO BEHOLD. FOR BETTER FOR WORSE, IT IS THE DEFINITIVE ANIME THAT REPRESENTS THE DECADE. IT MAY NOT HAVE ENDED IN THE WAY I WANTED, AND IT MAY NOT HAVE THAT ONE KISS I WAS LOOKING FOR, BUT IT FILLED THE HOLE IN MY HEART, AND WITH IT ENDING, THE GAPING WOUND IN MY SOUL MAY NEVER HEAL. MAYBE, FOR NOW, I WILL SAY THAT THE SHOW ENDED WELL. IT WAS NOT PERVERTED INTO A ZOMBIE FRANCHISE LIKE OTHERS, NOR DID IT STUMBLE HARD IN ITS FINAL MOMENT AND STRUGGLE TO RECLAIM ITS PAST GLORY. IT HAD SHORTCOMINGS, BUT THINKING BACK, THE JOURNEY TO THE END HAS BEEN A SATISFYING ONE THROUGHOUT. SO WHAT IS SYMPHOGEAR. IT IS A HYBRID IDOL ANIME. IT IS AN ANIME ABOUT FISTING. IT IS FIVE SEASONS AND SEVEN YEARS LONG AND HAS CAPTIVATED THE HEARTS OF MANY. BUT MOST IMPORTANTLY, IT IS BELIEVING IN THE SONG OF YOUR HEART."
     ]
    }
   ],
   "source": [
    "!cat solution.txt"
   ]
  },
  {
   "cell_type": "markdown",
   "metadata": {},
   "source": [
    "    Task 2:\n",
    "\n",
    "In this lab, an OTP (one‐time pad) of the same length as the plaintext is generated using a secure random source. Encryption is performed by taking the original plaintext and XORing it byte by byte with the OTP, which produces the ciphertext. Because XOR is its own inverse, decryption is simply done by XORing the ciphertext with the same OTP, which recovers the original plaintext exactly.\n",
    "\n",
    "To forge a new message of the same length, we use the following property of XOR: if ciphertext = OTP ⊕ original_plaintext, then\n",
    "ciphertext ⊕ (original_plaintext ⊕ target_plaintext) = OTP ⊕ target_plaintext.\n",
    "\n",
    "Concretely, the code computes a new ciphertext by XORing the original ciphertext with the XOR of the original plaintext and the desired (forged) plaintext. When this new ciphertext is decrypted with the unchanged OTP, it yields the target plaintext instead of the original. In other words, by XORing the old ciphertext with (original_plaintext ⊕ target_plaintext), we manipulate the ciphertext so that decryption produces the forged message.\n",
    "\n",
    "\n",
    "\n"
   ]
  },
  {
   "cell_type": "code",
   "execution_count": 8,
   "metadata": {},
   "outputs": [
    {
     "name": "stdout",
     "output_type": "stream",
     "text": [
      "Original message:\n",
      "b'Student ID 1000000 gets 0 points\\n'\n",
      "--------------------------------\n",
      "Forged message:\n",
      "b'Student ID 1000000 gets 4 points\\n'\n",
      "--------------------------------\n"
     ]
    }
   ],
   "source": [
    "!python3 ex2.py"
   ]
  }
 ],
 "metadata": {
  "kernelspec": {
   "display_name": "Python 3.10 (hotel-no-show)",
   "language": "python",
   "name": "hotel-py310"
  },
  "language_info": {
   "codemirror_mode": {
    "name": "ipython",
    "version": 3
   },
   "file_extension": ".py",
   "mimetype": "text/x-python",
   "name": "python",
   "nbconvert_exporter": "python",
   "pygments_lexer": "ipython3",
   "version": "3.12.2"
  }
 },
 "nbformat": 4,
 "nbformat_minor": 2
}
